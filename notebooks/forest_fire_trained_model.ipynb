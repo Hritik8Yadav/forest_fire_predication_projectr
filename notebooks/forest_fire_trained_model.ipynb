{
 "cells": [
  {
   "cell_type": "code",
   "execution_count": 21,
   "id": "8de678b3-da2d-47f7-8493-e813ebe9d46c",
   "metadata": {},
   "outputs": [],
   "source": [
    "import pandas as pd\n",
    "import numpy as np\n",
    "from sklearn.preprocessing import StandardScaler, OrdinalEncoder\n",
    "from sklearn.linear_model import LinearRegression, Lasso, Ridge, ElasticNet\n",
    "from sklearn.metrics import mean_absolute_error as mae\n",
    "from sklearn.metrics import r2_score as rsq\n",
    "from sklearn.model_selection import train_test_split\n",
    "import matplotlib.pyplot as plt\n",
    "import seaborn as sb\n",
    "import pickle "
   ]
  },
  {
   "cell_type": "code",
   "execution_count": 2,
   "id": "d680b5b2-c1a8-4da5-9b54-89d021f83af5",
   "metadata": {},
   "outputs": [],
   "source": [
    "data=pd.read_csv('Algerian_forest_clean.csv')"
   ]
  },
  {
   "cell_type": "code",
   "execution_count": 3,
   "id": "4dec0d54-11d6-460c-9ee3-ecf8639332e1",
   "metadata": {},
   "outputs": [
    {
     "data": {
      "text/html": [
       "<div>\n",
       "<style scoped>\n",
       "    .dataframe tbody tr th:only-of-type {\n",
       "        vertical-align: middle;\n",
       "    }\n",
       "\n",
       "    .dataframe tbody tr th {\n",
       "        vertical-align: top;\n",
       "    }\n",
       "\n",
       "    .dataframe thead th {\n",
       "        text-align: right;\n",
       "    }\n",
       "</style>\n",
       "<table border=\"1\" class=\"dataframe\">\n",
       "  <thead>\n",
       "    <tr style=\"text-align: right;\">\n",
       "      <th></th>\n",
       "      <th>Temperature</th>\n",
       "      <th>RH</th>\n",
       "      <th>Ws</th>\n",
       "      <th>Rain</th>\n",
       "      <th>FFMC</th>\n",
       "      <th>DMC</th>\n",
       "      <th>DC</th>\n",
       "      <th>ISI</th>\n",
       "      <th>BUI</th>\n",
       "      <th>FWI</th>\n",
       "      <th>Classes</th>\n",
       "      <th>Region</th>\n",
       "    </tr>\n",
       "  </thead>\n",
       "  <tbody>\n",
       "    <tr>\n",
       "      <th>0</th>\n",
       "      <td>29</td>\n",
       "      <td>57</td>\n",
       "      <td>18</td>\n",
       "      <td>0.0</td>\n",
       "      <td>65.7</td>\n",
       "      <td>3.4</td>\n",
       "      <td>7.6</td>\n",
       "      <td>1.3</td>\n",
       "      <td>3.4</td>\n",
       "      <td>0.5</td>\n",
       "      <td>not fire</td>\n",
       "      <td>1</td>\n",
       "    </tr>\n",
       "    <tr>\n",
       "      <th>1</th>\n",
       "      <td>29</td>\n",
       "      <td>61</td>\n",
       "      <td>13</td>\n",
       "      <td>1.3</td>\n",
       "      <td>64.4</td>\n",
       "      <td>4.1</td>\n",
       "      <td>7.6</td>\n",
       "      <td>1.0</td>\n",
       "      <td>3.9</td>\n",
       "      <td>0.4</td>\n",
       "      <td>not fire</td>\n",
       "      <td>1</td>\n",
       "    </tr>\n",
       "    <tr>\n",
       "      <th>2</th>\n",
       "      <td>26</td>\n",
       "      <td>82</td>\n",
       "      <td>22</td>\n",
       "      <td>13.1</td>\n",
       "      <td>47.1</td>\n",
       "      <td>2.5</td>\n",
       "      <td>7.1</td>\n",
       "      <td>0.3</td>\n",
       "      <td>2.7</td>\n",
       "      <td>0.1</td>\n",
       "      <td>not fire</td>\n",
       "      <td>1</td>\n",
       "    </tr>\n",
       "    <tr>\n",
       "      <th>3</th>\n",
       "      <td>25</td>\n",
       "      <td>89</td>\n",
       "      <td>13</td>\n",
       "      <td>2.5</td>\n",
       "      <td>28.6</td>\n",
       "      <td>1.3</td>\n",
       "      <td>6.9</td>\n",
       "      <td>0.0</td>\n",
       "      <td>1.7</td>\n",
       "      <td>0.0</td>\n",
       "      <td>not fire</td>\n",
       "      <td>1</td>\n",
       "    </tr>\n",
       "    <tr>\n",
       "      <th>4</th>\n",
       "      <td>27</td>\n",
       "      <td>77</td>\n",
       "      <td>16</td>\n",
       "      <td>0.0</td>\n",
       "      <td>64.8</td>\n",
       "      <td>3.0</td>\n",
       "      <td>14.2</td>\n",
       "      <td>1.2</td>\n",
       "      <td>3.9</td>\n",
       "      <td>0.5</td>\n",
       "      <td>not fire</td>\n",
       "      <td>1</td>\n",
       "    </tr>\n",
       "  </tbody>\n",
       "</table>\n",
       "</div>"
      ],
      "text/plain": [
       "   Temperature  RH  Ws  Rain  FFMC  DMC    DC  ISI  BUI  FWI   Classes  Region\n",
       "0           29  57  18   0.0  65.7  3.4   7.6  1.3  3.4  0.5  not fire       1\n",
       "1           29  61  13   1.3  64.4  4.1   7.6  1.0  3.9  0.4  not fire       1\n",
       "2           26  82  22  13.1  47.1  2.5   7.1  0.3  2.7  0.1  not fire       1\n",
       "3           25  89  13   2.5  28.6  1.3   6.9  0.0  1.7  0.0  not fire       1\n",
       "4           27  77  16   0.0  64.8  3.0  14.2  1.2  3.9  0.5  not fire       1"
      ]
     },
     "execution_count": 3,
     "metadata": {},
     "output_type": "execute_result"
    }
   ],
   "source": [
    "data.head()"
   ]
  },
  {
   "cell_type": "code",
   "execution_count": 4,
   "id": "3a0123ca-ea72-4226-8b08-9e2c180c504b",
   "metadata": {},
   "outputs": [],
   "source": [
    "data['Classes']=np.where(data['Classes']==\"not fire\",0,1)"
   ]
  },
  {
   "cell_type": "code",
   "execution_count": 5,
   "id": "db0208db-3cc2-4785-a964-2635c0950979",
   "metadata": {},
   "outputs": [],
   "source": [
    "#splittin the data\n",
    "x=data.drop('FWI',axis=1)\n",
    "y=data['FWI']"
   ]
  },
  {
   "cell_type": "code",
   "execution_count": 6,
   "id": "cdc3e5f2-7520-4db8-95b4-08ef36da2306",
   "metadata": {},
   "outputs": [],
   "source": [
    "#splitting train test data\n",
    "x_train,x_test,y_train,y_test=train_test_split(x,y,test_size=0.33,random_state=42)"
   ]
  },
  {
   "cell_type": "code",
   "execution_count": 7,
   "id": "a8776fd4-a2d5-495e-8698-9bfd338f6840",
   "metadata": {},
   "outputs": [
    {
     "data": {
      "text/html": [
       "<div>\n",
       "<style scoped>\n",
       "    .dataframe tbody tr th:only-of-type {\n",
       "        vertical-align: middle;\n",
       "    }\n",
       "\n",
       "    .dataframe tbody tr th {\n",
       "        vertical-align: top;\n",
       "    }\n",
       "\n",
       "    .dataframe thead th {\n",
       "        text-align: right;\n",
       "    }\n",
       "</style>\n",
       "<table border=\"1\" class=\"dataframe\">\n",
       "  <thead>\n",
       "    <tr style=\"text-align: right;\">\n",
       "      <th></th>\n",
       "      <th>Temperature</th>\n",
       "      <th>RH</th>\n",
       "      <th>Ws</th>\n",
       "      <th>Rain</th>\n",
       "      <th>FFMC</th>\n",
       "      <th>DMC</th>\n",
       "      <th>DC</th>\n",
       "      <th>ISI</th>\n",
       "      <th>BUI</th>\n",
       "      <th>Classes</th>\n",
       "      <th>Region</th>\n",
       "    </tr>\n",
       "  </thead>\n",
       "  <tbody>\n",
       "    <tr>\n",
       "      <th>226</th>\n",
       "      <td>28</td>\n",
       "      <td>81</td>\n",
       "      <td>15</td>\n",
       "      <td>0.0</td>\n",
       "      <td>84.6</td>\n",
       "      <td>12.6</td>\n",
       "      <td>41.5</td>\n",
       "      <td>4.3</td>\n",
       "      <td>14.3</td>\n",
       "      <td>1</td>\n",
       "      <td>2</td>\n",
       "    </tr>\n",
       "    <tr>\n",
       "      <th>65</th>\n",
       "      <td>34</td>\n",
       "      <td>65</td>\n",
       "      <td>13</td>\n",
       "      <td>0.0</td>\n",
       "      <td>86.8</td>\n",
       "      <td>11.1</td>\n",
       "      <td>29.7</td>\n",
       "      <td>5.2</td>\n",
       "      <td>11.5</td>\n",
       "      <td>1</td>\n",
       "      <td>1</td>\n",
       "    </tr>\n",
       "    <tr>\n",
       "      <th>168</th>\n",
       "      <td>33</td>\n",
       "      <td>68</td>\n",
       "      <td>15</td>\n",
       "      <td>0.0</td>\n",
       "      <td>86.1</td>\n",
       "      <td>23.9</td>\n",
       "      <td>51.6</td>\n",
       "      <td>5.2</td>\n",
       "      <td>23.9</td>\n",
       "      <td>1</td>\n",
       "      <td>2</td>\n",
       "    </tr>\n",
       "    <tr>\n",
       "      <th>206</th>\n",
       "      <td>34</td>\n",
       "      <td>40</td>\n",
       "      <td>18</td>\n",
       "      <td>0.0</td>\n",
       "      <td>92.1</td>\n",
       "      <td>56.3</td>\n",
       "      <td>157.5</td>\n",
       "      <td>14.3</td>\n",
       "      <td>59.5</td>\n",
       "      <td>1</td>\n",
       "      <td>2</td>\n",
       "    </tr>\n",
       "    <tr>\n",
       "      <th>144</th>\n",
       "      <td>33</td>\n",
       "      <td>59</td>\n",
       "      <td>16</td>\n",
       "      <td>0.8</td>\n",
       "      <td>74.2</td>\n",
       "      <td>7.0</td>\n",
       "      <td>8.3</td>\n",
       "      <td>1.6</td>\n",
       "      <td>6.7</td>\n",
       "      <td>0</td>\n",
       "      <td>2</td>\n",
       "    </tr>\n",
       "    <tr>\n",
       "      <th>...</th>\n",
       "      <td>...</td>\n",
       "      <td>...</td>\n",
       "      <td>...</td>\n",
       "      <td>...</td>\n",
       "      <td>...</td>\n",
       "      <td>...</td>\n",
       "      <td>...</td>\n",
       "      <td>...</td>\n",
       "      <td>...</td>\n",
       "      <td>...</td>\n",
       "      <td>...</td>\n",
       "    </tr>\n",
       "    <tr>\n",
       "      <th>106</th>\n",
       "      <td>24</td>\n",
       "      <td>82</td>\n",
       "      <td>15</td>\n",
       "      <td>0.4</td>\n",
       "      <td>44.9</td>\n",
       "      <td>0.9</td>\n",
       "      <td>7.3</td>\n",
       "      <td>0.2</td>\n",
       "      <td>1.4</td>\n",
       "      <td>0</td>\n",
       "      <td>1</td>\n",
       "    </tr>\n",
       "    <tr>\n",
       "      <th>14</th>\n",
       "      <td>28</td>\n",
       "      <td>80</td>\n",
       "      <td>17</td>\n",
       "      <td>3.1</td>\n",
       "      <td>49.4</td>\n",
       "      <td>3.0</td>\n",
       "      <td>7.4</td>\n",
       "      <td>0.4</td>\n",
       "      <td>3.0</td>\n",
       "      <td>0</td>\n",
       "      <td>1</td>\n",
       "    </tr>\n",
       "    <tr>\n",
       "      <th>92</th>\n",
       "      <td>25</td>\n",
       "      <td>76</td>\n",
       "      <td>17</td>\n",
       "      <td>7.2</td>\n",
       "      <td>46.0</td>\n",
       "      <td>1.3</td>\n",
       "      <td>7.5</td>\n",
       "      <td>0.2</td>\n",
       "      <td>1.8</td>\n",
       "      <td>0</td>\n",
       "      <td>1</td>\n",
       "    </tr>\n",
       "    <tr>\n",
       "      <th>179</th>\n",
       "      <td>34</td>\n",
       "      <td>59</td>\n",
       "      <td>16</td>\n",
       "      <td>0.0</td>\n",
       "      <td>88.1</td>\n",
       "      <td>19.5</td>\n",
       "      <td>47.2</td>\n",
       "      <td>7.4</td>\n",
       "      <td>19.5</td>\n",
       "      <td>1</td>\n",
       "      <td>2</td>\n",
       "    </tr>\n",
       "    <tr>\n",
       "      <th>102</th>\n",
       "      <td>30</td>\n",
       "      <td>77</td>\n",
       "      <td>21</td>\n",
       "      <td>1.8</td>\n",
       "      <td>58.5</td>\n",
       "      <td>1.9</td>\n",
       "      <td>8.4</td>\n",
       "      <td>1.1</td>\n",
       "      <td>2.4</td>\n",
       "      <td>0</td>\n",
       "      <td>1</td>\n",
       "    </tr>\n",
       "  </tbody>\n",
       "</table>\n",
       "<p>162 rows × 11 columns</p>\n",
       "</div>"
      ],
      "text/plain": [
       "     Temperature  RH  Ws  Rain  FFMC   DMC     DC   ISI   BUI  Classes  Region\n",
       "226           28  81  15   0.0  84.6  12.6   41.5   4.3  14.3        1       2\n",
       "65            34  65  13   0.0  86.8  11.1   29.7   5.2  11.5        1       1\n",
       "168           33  68  15   0.0  86.1  23.9   51.6   5.2  23.9        1       2\n",
       "206           34  40  18   0.0  92.1  56.3  157.5  14.3  59.5        1       2\n",
       "144           33  59  16   0.8  74.2   7.0    8.3   1.6   6.7        0       2\n",
       "..           ...  ..  ..   ...   ...   ...    ...   ...   ...      ...     ...\n",
       "106           24  82  15   0.4  44.9   0.9    7.3   0.2   1.4        0       1\n",
       "14            28  80  17   3.1  49.4   3.0    7.4   0.4   3.0        0       1\n",
       "92            25  76  17   7.2  46.0   1.3    7.5   0.2   1.8        0       1\n",
       "179           34  59  16   0.0  88.1  19.5   47.2   7.4  19.5        1       2\n",
       "102           30  77  21   1.8  58.5   1.9    8.4   1.1   2.4        0       1\n",
       "\n",
       "[162 rows x 11 columns]"
      ]
     },
     "execution_count": 7,
     "metadata": {},
     "output_type": "execute_result"
    }
   ],
   "source": [
    "x_train"
   ]
  },
  {
   "cell_type": "code",
   "execution_count": 8,
   "id": "10b07663-deff-4706-b5bc-57285da5e8ae",
   "metadata": {},
   "outputs": [
    {
     "data": {
      "image/png": "[encoded data removed]",
      "text/plain": [
       "<Figure size 1500x1500 with 2 Axes>"
      ]
     },
     "metadata": {},
     "output_type": "display_data"
    }
   ],
   "source": [
    "# multicorrelation\n",
    "plt.figure(figsize=(15,15))\n",
    "sb.heatmap(x_train.corr(),annot=True)\n",
    "plt.show()"
   ]
  },
  {
   "cell_type": "code",
   "execution_count": 9,
   "id": "58f66b78-a529-48f1-af6e-58ac5d9be495",
   "metadata": {},
   "outputs": [],
   "source": [
    "relation=x_train.corr()"
   ]
  },
  {
   "cell_type": "code",
   "execution_count": 10,
   "id": "710cc514-8b3a-422b-b5d9-3aac35fdceef",
   "metadata": {},
   "outputs": [
    {
     "data": {
      "text/html": [
       "<div>\n",
       "<style scoped>\n",
       "    .dataframe tbody tr th:only-of-type {\n",
       "        vertical-align: middle;\n",
       "    }\n",
       "\n",
       "    .dataframe tbody tr th {\n",
       "        vertical-align: top;\n",
       "    }\n",
       "\n",
       "    .dataframe thead th {\n",
       "        text-align: right;\n",
       "    }\n",
       "</style>\n",
       "<table border=\"1\" class=\"dataframe\">\n",
       "  <thead>\n",
       "    <tr style=\"text-align: right;\">\n",
       "      <th></th>\n",
       "      <th>Temperature</th>\n",
       "      <th>RH</th>\n",
       "      <th>Ws</th>\n",
       "      <th>Rain</th>\n",
       "      <th>FFMC</th>\n",
       "      <th>DMC</th>\n",
       "      <th>DC</th>\n",
       "      <th>ISI</th>\n",
       "      <th>BUI</th>\n",
       "      <th>Classes</th>\n",
       "      <th>Region</th>\n",
       "    </tr>\n",
       "  </thead>\n",
       "  <tbody>\n",
       "    <tr>\n",
       "      <th>Temperature</th>\n",
       "      <td>1.000000</td>\n",
       "      <td>-0.653217</td>\n",
       "      <td>-0.294493</td>\n",
       "      <td>-0.306845</td>\n",
       "      <td>0.686784</td>\n",
       "      <td>0.485957</td>\n",
       "      <td>0.387369</td>\n",
       "      <td>0.600649</td>\n",
       "      <td>0.463775</td>\n",
       "      <td>0.515616</td>\n",
       "      <td>0.260966</td>\n",
       "    </tr>\n",
       "    <tr>\n",
       "      <th>RH</th>\n",
       "      <td>-0.653217</td>\n",
       "      <td>1.000000</td>\n",
       "      <td>0.200772</td>\n",
       "      <td>0.218350</td>\n",
       "      <td>-0.633803</td>\n",
       "      <td>-0.416955</td>\n",
       "      <td>-0.240523</td>\n",
       "      <td>-0.718725</td>\n",
       "      <td>-0.365222</td>\n",
       "      <td>-0.444497</td>\n",
       "      <td>-0.419498</td>\n",
       "    </tr>\n",
       "    <tr>\n",
       "      <th>Ws</th>\n",
       "      <td>-0.294493</td>\n",
       "      <td>0.200772</td>\n",
       "      <td>1.000000</td>\n",
       "      <td>0.247112</td>\n",
       "      <td>-0.178626</td>\n",
       "      <td>0.008702</td>\n",
       "      <td>0.101059</td>\n",
       "      <td>-0.006136</td>\n",
       "      <td>0.043700</td>\n",
       "      <td>-0.062682</td>\n",
       "      <td>-0.216375</td>\n",
       "    </tr>\n",
       "    <tr>\n",
       "      <th>Rain</th>\n",
       "      <td>-0.306845</td>\n",
       "      <td>0.218350</td>\n",
       "      <td>0.247112</td>\n",
       "      <td>1.000000</td>\n",
       "      <td>-0.537842</td>\n",
       "      <td>-0.288821</td>\n",
       "      <td>-0.304050</td>\n",
       "      <td>-0.340753</td>\n",
       "      <td>-0.300830</td>\n",
       "      <td>-0.366668</td>\n",
       "      <td>-0.057620</td>\n",
       "    </tr>\n",
       "    <tr>\n",
       "      <th>FFMC</th>\n",
       "      <td>0.686784</td>\n",
       "      <td>-0.633803</td>\n",
       "      <td>-0.178626</td>\n",
       "      <td>-0.537842</td>\n",
       "      <td>1.000000</td>\n",
       "      <td>0.624492</td>\n",
       "      <td>0.528396</td>\n",
       "      <td>0.748319</td>\n",
       "      <td>0.611220</td>\n",
       "      <td>0.782922</td>\n",
       "      <td>0.271324</td>\n",
       "    </tr>\n",
       "    <tr>\n",
       "      <th>DMC</th>\n",
       "      <td>0.485957</td>\n",
       "      <td>-0.416955</td>\n",
       "      <td>0.008702</td>\n",
       "      <td>-0.288821</td>\n",
       "      <td>0.624492</td>\n",
       "      <td>1.000000</td>\n",
       "      <td>0.869090</td>\n",
       "      <td>0.685568</td>\n",
       "      <td>0.983366</td>\n",
       "      <td>0.617266</td>\n",
       "      <td>0.222615</td>\n",
       "    </tr>\n",
       "    <tr>\n",
       "      <th>DC</th>\n",
       "      <td>0.387369</td>\n",
       "      <td>-0.240523</td>\n",
       "      <td>0.101059</td>\n",
       "      <td>-0.304050</td>\n",
       "      <td>0.528396</td>\n",
       "      <td>0.869090</td>\n",
       "      <td>1.000000</td>\n",
       "      <td>0.514349</td>\n",
       "      <td>0.942305</td>\n",
       "      <td>0.547390</td>\n",
       "      <td>-0.046399</td>\n",
       "    </tr>\n",
       "    <tr>\n",
       "      <th>ISI</th>\n",
       "      <td>0.600649</td>\n",
       "      <td>-0.718725</td>\n",
       "      <td>-0.006136</td>\n",
       "      <td>-0.340753</td>\n",
       "      <td>0.748319</td>\n",
       "      <td>0.685568</td>\n",
       "      <td>0.514349</td>\n",
       "      <td>1.000000</td>\n",
       "      <td>0.643968</td>\n",
       "      <td>0.733342</td>\n",
       "      <td>0.304554</td>\n",
       "    </tr>\n",
       "    <tr>\n",
       "      <th>BUI</th>\n",
       "      <td>0.463775</td>\n",
       "      <td>-0.365222</td>\n",
       "      <td>0.043700</td>\n",
       "      <td>-0.300830</td>\n",
       "      <td>0.611220</td>\n",
       "      <td>0.983366</td>\n",
       "      <td>0.942305</td>\n",
       "      <td>0.643968</td>\n",
       "      <td>1.000000</td>\n",
       "      <td>0.613711</td>\n",
       "      <td>0.127509</td>\n",
       "    </tr>\n",
       "    <tr>\n",
       "      <th>Classes</th>\n",
       "      <td>0.515616</td>\n",
       "      <td>-0.444497</td>\n",
       "      <td>-0.062682</td>\n",
       "      <td>-0.366668</td>\n",
       "      <td>0.782922</td>\n",
       "      <td>0.617266</td>\n",
       "      <td>0.547390</td>\n",
       "      <td>0.733342</td>\n",
       "      <td>0.613711</td>\n",
       "      <td>1.000000</td>\n",
       "      <td>0.197291</td>\n",
       "    </tr>\n",
       "    <tr>\n",
       "      <th>Region</th>\n",
       "      <td>0.260966</td>\n",
       "      <td>-0.419498</td>\n",
       "      <td>-0.216375</td>\n",
       "      <td>-0.057620</td>\n",
       "      <td>0.271324</td>\n",
       "      <td>0.222615</td>\n",
       "      <td>-0.046399</td>\n",
       "      <td>0.304554</td>\n",
       "      <td>0.127509</td>\n",
       "      <td>0.197291</td>\n",
       "      <td>1.000000</td>\n",
       "    </tr>\n",
       "  </tbody>\n",
       "</table>\n",
       "</div>"
      ],
      "text/plain": [
       "             Temperature        RH        Ws      Rain      FFMC       DMC  \\\n",
       "Temperature     1.000000 -0.653217 -0.294493 -0.306845  0.686784  0.485957   \n",
       "RH             -0.653217  1.000000  0.200772  0.218350 -0.633803 -0.416955   \n",
       "Ws             -0.294493  0.200772  1.000000  0.247112 -0.178626  0.008702   \n",
       "Rain           -0.306845  0.218350  0.247112  1.000000 -0.537842 -0.288821   \n",
       "FFMC            0.686784 -0.633803 -0.178626 -0.537842  1.000000  0.624492   \n",
       "DMC             0.485957 -0.416955  0.008702 -0.288821  0.624492  1.000000   \n",
       "DC              0.387369 -0.240523  0.101059 -0.304050  0.528396  0.869090   \n",
       "ISI             0.600649 -0.718725 -0.006136 -0.340753  0.748319  0.685568   \n",
       "BUI             0.463775 -0.365222  0.043700 -0.300830  0.611220  0.983366   \n",
       "Classes         0.515616 -0.444497 -0.062682 -0.366668  0.782922  0.617266   \n",
       "Region          0.260966 -0.419498 -0.216375 -0.057620  0.271324  0.222615   \n",
       "\n",
       "                   DC       ISI       BUI   Classes    Region  \n",
       "Temperature  0.387369  0.600649  0.463775  0.515616  0.260966  \n",
       "RH          -0.240523 -0.718725 -0.365222 -0.444497 -0.419498  \n",
       "Ws           0.101059 -0.006136  0.043700 -0.062682 -0.216375  \n",
       "Rain        -0.304050 -0.340753 -0.300830 -0.366668 -0.057620  \n",
       "FFMC         0.528396  0.748319  0.611220  0.782922  0.271324  \n",
       "DMC          0.869090  0.685568  0.983366  0.617266  0.222615  \n",
       "DC           1.000000  0.514349  0.942305  0.547390 -0.046399  \n",
       "ISI          0.514349  1.000000  0.643968  0.733342  0.304554  \n",
       "BUI          0.942305  0.643968  1.000000  0.613711  0.127509  \n",
       "Classes      0.547390  0.733342  0.613711  1.000000  0.197291  \n",
       "Region      -0.046399  0.304554  0.127509  0.197291  1.000000  "
      ]
     },
     "execution_count": 10,
     "metadata": {},
     "output_type": "execute_result"
    }
   ],
   "source": [
    "relation"
   ]
  },
  {
   "cell_type": "code",
   "execution_count": 11,
   "id": "20dc6586-e243-4840-9c0f-479010967f92",
   "metadata": {},
   "outputs": [],
   "source": [
    "def multicoll_column(relation,threshold):\n",
    "    mul_c=set()\n",
    "    correl=relation.corr()\n",
    "    for i in range(len(correl.columns)):\n",
    "        # print('THIS IS I: ',i)\n",
    "        for j in range(i):\n",
    "            # print('this is j: ',j)\n",
    "            if(abs(correl.iloc[i,j])>threshold):\n",
    "                cl=correl.columns[i]\n",
    "                mul_c.add(cl)\n",
    "    return mul_c"
   ]
  },
  {
   "cell_type": "code",
   "execution_count": 12,
   "id": "a7f98300-52f9-4202-b973-70a40a7f0fd4",
   "metadata": {},
   "outputs": [
    {
     "data": {
      "text/plain": [
       "{'BUI', 'DC'}"
      ]
     },
     "execution_count": 12,
     "metadata": {},
     "output_type": "execute_result"
    }
   ],
   "source": [
    "d_col=multicoll_column(x_train,0.85)\n",
    "d_col"
   ]
  },
  {
   "cell_type": "code",
   "execution_count": 13,
   "id": "7cdaf1a2-32c8-4a16-bdbc-6376ba891f65",
   "metadata": {},
   "outputs": [
    {
     "data": {
      "text/plain": [
       "(162, 11)"
      ]
     },
     "execution_count": 13,
     "metadata": {},
     "output_type": "execute_result"
    }
   ],
   "source": [
    "x_train.drop(d_col,axis=1)\n",
    "x_test.drop(d_col,axis=1)\n",
    "x_train.shape"
   ]
  },
  {
   "cell_type": "code",
   "execution_count": 14,
   "id": "b8395b8a-82fb-48df-a8fa-8d77b1b8d835",
   "metadata": {},
   "outputs": [],
   "source": [
    "#standarization\n",
    "st=StandardScaler()\n",
    "scaler_xtrain=st.fit_transform(x_train)\n",
    "scaler_xtest=st.fit_transform(x_test)"
   ]
  },
  {
   "cell_type": "code",
   "execution_count": 15,
   "id": "0fcc30ca-f53b-426d-b4d2-28a4e4fe1949",
   "metadata": {},
   "outputs": [
    {
     "data": {
      "text/plain": [
       "array([[-1.12656349,  1.2199876 , -0.22762867, ..., -0.20093835,\n",
       "         0.90566259,  0.9877296 ],\n",
       "       [ 0.52256258,  0.1473255 , -0.98795537, ..., -0.38763567,\n",
       "         0.90566259, -1.01242284],\n",
       "       [ 0.24770824,  0.34844965, -0.22762867, ...,  0.43916677,\n",
       "         0.90566259,  0.9877296 ],\n",
       "       ...,\n",
       "       [-1.95112653,  0.88478069,  0.53269803, ..., -1.03440854,\n",
       "        -1.10416397, -1.01242284],\n",
       "       [ 0.52256258, -0.25492278,  0.15253468, ...,  0.14578526,\n",
       "         0.90566259,  0.9877296 ],\n",
       "       [-0.5768548 ,  0.95182207,  2.05335143, ..., -0.99440197,\n",
       "        -1.10416397, -1.01242284]])"
      ]
     },
     "execution_count": 15,
     "metadata": {},
     "output_type": "execute_result"
    }
   ],
   "source": [
    "scaler_xtrain"
   ]
  },
  {
   "cell_type": "code",
   "execution_count": 16,
   "id": "14753bf1-044f-41dc-8751-3a130f5f3a66",
   "metadata": {},
   "outputs": [
    {
     "data": {
      "text/plain": [
       "\"enc=OrdinalEncoder()\\n\\nar_code=enc.fit_transform(updated_data['Classes'].values.reshape(-1,1))\\nar_code.flatten()\\nres=list(map(int,np.concatenate(ar_code)))\\n\""
      ]
     },
     "execution_count": 16,
     "metadata": {},
     "output_type": "execute_result"
    }
   ],
   "source": [
    "'''enc=OrdinalEncoder()\n",
    "\n",
    "ar_code=enc.fit_transform(updated_data['Classes'].values.reshape(-1,1))\n",
    "ar_code.flatten()\n",
    "res=list(map(int,np.concatenate(ar_code)))\n",
    "'''"
   ]
  },
  {
   "cell_type": "code",
   "execution_count": 17,
   "id": "3f74d4f5-45b6-4a9a-bf80-476df4ea587e",
   "metadata": {},
   "outputs": [
    {
     "name": "stdout",
     "output_type": "stream",
     "text": [
      "1.1332524365753736\n",
      "0.9535651457104818\n"
     ]
    }
   ],
   "source": [
    "#linear regression model\n",
    "linear=LinearRegression()\n",
    "linear.fit(scaler_xtrain,y_train)\n",
    "y_pred=linear.predict(scaler_xtest)\n",
    "error=mae(y_test,y_pred)\n",
    "r2=rsq(y_test,y_pred)\n",
    "print(error)\n",
    "print(r2)"
   ]
  },
  {
   "cell_type": "code",
   "execution_count": 18,
   "id": "d4435f5f-caf7-481f-8fa8-d7da7a4adc91",
   "metadata": {},
   "outputs": [
    {
     "name": "stdout",
     "output_type": "stream",
     "text": [
      "0.9092470566324545\n",
      "0.9728751156661042\n"
     ]
    }
   ],
   "source": [
    "#lasso regression model\n",
    "l=Lasso()\n",
    "l.fit(scaler_xtrain,y_train)\n",
    "y_pre=l.predict(scaler_xtest)\n",
    "error=mae(y_test,y_pre)\n",
    "r2=rsq(y_test,y_pre)\n",
    "print(error)\n",
    "print(r2)"
   ]
  },
  {
   "cell_type": "code",
   "execution_count": 19,
   "id": "65a39508-aba1-4a24-aab1-43798fac0d32",
   "metadata": {},
   "outputs": [
    {
     "name": "stdout",
     "output_type": "stream",
     "text": [
      "1.1243376775293583\n",
      "0.9539328523564417\n"
     ]
    }
   ],
   "source": [
    "#ridge regression model\n",
    "r=Ridge()\n",
    "r.fit(scaler_xtrain,y_train)\n",
    "y_pre=r.predict(scaler_xtest)\n",
    "error=mae(y_test,y_pre)\n",
    "r2=rsq(y_test,y_pre)\n",
    "print(error)\n",
    "print(r2)"
   ]
  },
  {
   "cell_type": "code",
   "execution_count": 20,
   "id": "49a97541-cc07-4af4-b9a4-f59be3e0a406",
   "metadata": {},
   "outputs": [
    {
     "name": "stdout",
     "output_type": "stream",
     "text": [
      "1.4424296931130927\n",
      "0.9277734394155606\n"
     ]
    }
   ],
   "source": [
    "#elastic regression\n",
    "e=ElasticNet()\n",
    "e.fit(scaler_xtrain,y_train)\n",
    "y_pre=e.predict(scaler_xtest)\n",
    "error=mae(y_test,y_pre)\n",
    "r2=rsq(y_test,y_pre)\n",
    "print(error)\n",
    "print(r2)"
   ]
  },
  {
   "cell_type": "code",
   "execution_count": 22,
   "id": "ebf0d51f-0819-46c1-bd11-a0b37624b303",
   "metadata": {},
   "outputs": [],
   "source": [
    "pickle.dump(l, open ('lasso.pkl','wb') )\n",
    "pickle.dump(st, open('scaler.pkl','wb'))"
   ]
  },
  {
   "cell_type": "code",
   "execution_count": null,
   "id": "6cdf8001-3dac-45d1-acad-546489810162",
   "metadata": {},
   "outputs": [],
   "source": []
  }
 ],
 "metadata": {
  "kernelspec": {
   "display_name": "Python 3.8.10 64-bit",
   "language": "python",
   "name": "python3"
  },
  "language_info": {
   "codemirror_mode": {
    "name": "ipython",
    "version": 3
   },
   "file_extension": ".py",
   "mimetype": "text/x-python",
   "name": "python",
   "nbconvert_exporter": "python",
   "pygments_lexer": "ipython3",
   "version": "3.8.10"
  },
  "vscode": {
   "interpreter": {
    "hash": "e7370f93d1d0cde622a1f8e1c04877d8463912d04d973331ad4851f04de6915a"
   }
  }
 },
 "nbformat": 4,
 "nbformat_minor": 5
}
